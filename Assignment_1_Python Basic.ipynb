{
 "cells": [
  {
   "cell_type": "raw",
   "metadata": {},
   "source": [
    "1. In the below elements which of them are values or an expression? eg:- values can be\n",
    "integer or string and expressions will be mathematical operators.\n",
    "*\n",
    "'hello'\n",
    "-87.8\n",
    "-\n",
    "/\n",
    "+\n",
    "6\n",
    "\n",
    "Values - 'hello', -87.8, 6\n",
    "Expression - *, -, /, +"
   ]
  },
  {
   "cell_type": "raw",
   "metadata": {},
   "source": [
    "2. What is the difference between string and variable?\n",
    "\n",
    "String - character datatype\n",
    "Variable - an object which can hold any data type\n"
   ]
  },
  {
   "cell_type": "raw",
   "metadata": {},
   "source": [
    "3. Describe three different data types.\n",
    "\n",
    "Numeric - Integer, Float, Complex\n",
    "String - collection of characters enclosed in single/double quotes\n",
    "List - ordered collection of elements of any datatype enclosed by [] which is also mutable.\n",
    "Tuple - ordered collection of elements of any datatype enclosed by () which is immutable.\n",
    "Set - unordered collection of elements of any datatype enclosed by {} which is mutable, iterable and has no duplicate values.\n",
    "Dictionary - unordered collection of data values stored in a key - value pair enclosed by {} where keys are unique.\n",
    "\n",
    "\n"
   ]
  },
  {
   "cell_type": "raw",
   "metadata": {},
   "source": [
    "4. What is an expression made up of? What do all expressions do?\n",
    "\n",
    "Expression is a combination of operators and operands which is used to produce a desired result.\n",
    "Example : x = 15 + y"
   ]
  },
  {
   "cell_type": "raw",
   "metadata": {},
   "source": [
    "5. This assignment statements, like spam = 10. What is the difference between an\n",
    "expression and a statement?\n",
    "\n",
    "Statement is a block of code that performs a particular task. Example print statement, n = 17, print(n)\n",
    "Expression is a combination of values, variables and operators. Example n =17\n",
    "\n",
    "Every Expression can be a statement if we return the value the expression holds."
   ]
  },
  {
   "cell_type": "raw",
   "metadata": {},
   "source": [
    "6. After running the following code, what does the variable bacon contain?\n",
    "bacon = 22\n",
    "bacon + 1\n",
    "\n",
    "22"
   ]
  },
  {
   "cell_type": "raw",
   "metadata": {},
   "source": [
    "7. What should the values of the following two terms be?\n",
    "'spam' + 'spamspam'\n",
    "'spam' * 3\n",
    "\n",
    "'spamspamspam'\n",
    "'spamspamspam'"
   ]
  },
  {
   "cell_type": "raw",
   "metadata": {},
   "source": [
    "8. Why is eggs a valid variable name while 100 is invalid?\n",
    "\n",
    "Variablename cannot start with a number, it must start with a letter or underscore"
   ]
  },
  {
   "cell_type": "raw",
   "metadata": {},
   "source": [
    "9. What three functions can be used to get the integer, floating-point number, or string\n",
    "version of a value?\n",
    "\n",
    "int('value')\n",
    "float('value')\n",
    "str('value')"
   ]
  },
  {
   "cell_type": "raw",
   "metadata": {},
   "source": [
    "10. Why does this expression cause an error? How can you fix it?\n",
    "'I have eaten' + 99 + 'burritos.'\n",
    "\n",
    "int type cannot be concatenated with string. It can be fixed by making 99 as string '99'\n",
    "\n",
    "'I have eaten' + ' 99 ' + 'burritos.'\n"
   ]
  }
 ],
 "metadata": {
  "kernelspec": {
   "display_name": "Python 3",
   "language": "python",
   "name": "python3"
  },
  "language_info": {
   "codemirror_mode": {
    "name": "ipython",
    "version": 3
   },
   "file_extension": ".py",
   "mimetype": "text/x-python",
   "name": "python",
   "nbconvert_exporter": "python",
   "pygments_lexer": "ipython3",
   "version": "3.7.3"
  }
 },
 "nbformat": 4,
 "nbformat_minor": 2
}
